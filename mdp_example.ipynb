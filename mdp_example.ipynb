{
 "cells": [
  {
   "cell_type": "markdown",
   "metadata": {},
   "source": [
    "# Three-states MDP example"
   ]
  },
  {
   "cell_type": "code",
   "execution_count": 1,
   "metadata": {},
   "outputs": [],
   "source": [
    "#!/usr/bin/env python3\n",
    "# -*- coding: utf-8 -*-\n",
    "#\n",
    "# Copyright (c) 2021 Alessio Russo [alessior@kth.se]. All rights reserved.\n",
    "#\n",
    "# This file is part of PrivacyStochasticSystems.\n",
    "#\n",
    "# PrivacyStochasticSystems is free software: you can redistribute it and/or modify\n",
    "# it under the terms of the MIT License. You should have received a copy of\n",
    "# the MIT License along with PrivacyStochasticSystems.\n",
    "# If not, see <https://opensource.org/licenses/MIT>.\n",
    "#\n",
    "\n",
    "\n",
    "import numpy as np\n",
    "import scipy as sp\n",
    "from tqdm.notebook import tqdm\n",
    "import matplotlib.pyplot as plt\n",
    "\n",
    "from full_information import full_information_privacy_lb, \\\n",
    "    full_information_privacy_utility, full_information_privacy\n",
    "from limited_information import limited_information_privacy_lb, \\\n",
    "    limited_information_privacy, limited_information_privacy_utility\n",
    "from utils import compute_values\n",
    "\n",
    "## Figures parameters\n",
    "plt.rcParams.update({\n",
    "    'figure.figsize': [16, 4],\n",
    "})\n"
   ]
  },
  {
   "cell_type": "markdown",
   "metadata": {},
   "source": [
    "## MDP Definition"
   ]
  },
  {
   "cell_type": "code",
   "execution_count": 2,
   "metadata": {},
   "outputs": [],
   "source": [
    "# Define transition probabilities before transitions\n",
    "\n",
    "def build_system(theta):\n",
    "    P0 = np.array([[[0.6, 0.3, 0.1],\n",
    "                    [0.05, 0.85, 0.1],\n",
    "                    [0.15, 0.15, 0.7]],\n",
    "                   [[0.5, 0.2, 0.3],\n",
    "                    [0.5, 0.3, 0.2],\n",
    "                    [0.3, 0.3, 0.4]]])\n",
    "\n",
    "\n",
    "    # Define transition probabilities after transitions\n",
    "    P1 = np.array([[[0.3, 0.3, 0.4],\n",
    "                    [0.35, 0.5, 0.15],\n",
    "                    [0.8, 0.05, 0.15]],\n",
    "                   [[0.3, 0.55, 0.15],\n",
    "                    [0.8, 0.1, 0.1],\n",
    "                    [0.5, 0.3, 0.2]]])\n",
    "\n",
    "    return P0, P0*theta + (1-theta)*P1\n",
    "\n",
    "R0 = np.array([[0.2, 0.2],\n",
    "               [0.3, 0.7],\n",
    "               [0.7, 0.4]])\n",
    "\n",
    "R1 = np.array([[0.7, 0.1],\n",
    "               [0.4, 0.4],\n",
    "               [0.3, 0.8]])"
   ]
  },
  {
   "cell_type": "markdown",
   "metadata": {},
   "source": [
    "## Privacy upper bound analysis"
   ]
  },
  {
   "cell_type": "code",
   "execution_count": 11,
   "metadata": {},
   "outputs": [
    {
     "data": {
      "application/vnd.jupyter.widget-view+json": {
       "model_id": "b163e406fd2f41388f847738d366ef75",
       "version_major": 2,
       "version_minor": 0
      },
      "text/plain": [
       "  0%|          | 0/25 [00:00<?, ?it/s]"
      ]
     },
     "metadata": {},
     "output_type": "display_data"
    }
   ],
   "source": [
    "If = []\n",
    "Il = []\n",
    "Theta = np.linspace(0., 0.99, 25)\n",
    "for theta in tqdm(Theta):\n",
    "    P0, P1 = build_system(theta)\n",
    "    result, xi = full_information_privacy_lb(P0, P1)\n",
    "    If.append(np.log(full_information_privacy(P0, P1, xi, xi)))\n",
    "    \n",
    "    result, xi1, xi0 = limited_information_privacy_lb(P0, P1, initial_points=15)\n",
    "    Il.append(np.log(limited_information_privacy(P0, P1, xi0, xi1)))\n"
   ]
  },
  {
   "cell_type": "code",
   "execution_count": 12,
   "metadata": {},
   "outputs": [
    {
     "data": {
      "image/png": "[encoded data removed]",
      "text/plain": [
       "<Figure size 432x288 with 1 Axes>"
      ]
     },
     "metadata": {
      "needs_background": "light"
     },
     "output_type": "display_data"
    }
   ],
   "source": [
    "plt.plot(Theta, If, label='Full-information')\n",
    "plt.plot(Theta, Il, label='Limited-information')\n",
    "plt.grid()\n",
    "plt.legend()\n",
    "plt.xlabel(r'$\\theta$')\n",
    "plt.ylabel(r'$\\ln(\\mathcal{I}(S))$')\n",
    "plt.title('Best achievable privacy')\n",
    "plt.show()"
   ]
  },
  {
   "cell_type": "markdown",
   "metadata": {},
   "source": [
    "## Privacy-utility trade-off "
   ]
  },
  {
   "cell_type": "markdown",
   "metadata": {},
   "source": [
    "### Full-information case"
   ]
  },
  {
   "cell_type": "code",
   "execution_count": null,
   "metadata": {},
   "outputs": [
    {
     "name": "stdout",
     "output_type": "stream",
     "text": [
      "Computing policies for different values of rho/lambda\n"
     ]
    },
    {
     "data": {
      "application/vnd.jupyter.widget-view+json": {
       "model_id": "0a2bf6b77f2c4c2093747a026538f997",
       "version_major": 2,
       "version_minor": 0
      },
      "text/plain": [
       "  0%|          | 0/3 [00:00<?, ?it/s]"
      ]
     },
     "metadata": {},
     "output_type": "display_data"
    },
    {
     "data": {
      "application/vnd.jupyter.widget-view+json": {
       "model_id": "63ff30f14ecf48d8867352594726b1c4",
       "version_major": 2,
       "version_minor": 0
      },
      "text/plain": [
       "  0%|          | 0/5 [00:00<?, ?it/s]"
      ]
     },
     "metadata": {},
     "output_type": "display_data"
    },
    {
     "name": "stderr",
     "output_type": "stream",
     "text": [
      "C:\\Users\\alessior\\anaconda3\\envs\\PrivacyEnv\\lib\\site-packages\\cvxpy\\problems\\problem.py:1126: UserWarning: Solution may be inaccurate. Try another solver, adjusting the solver settings, or solve with verbose=True for more information.\n",
      "  \"Solution may be inaccurate. Try another solver, \"\n"
     ]
    }
   ],
   "source": [
    "RHO = [0.1, 0.5, 0.9]\n",
    "LMBD =  np.linspace(1e-4, 35, 5)\n",
    "V0 = np.zeros((len(RHO), len(LMBD)))\n",
    "V1 = np.zeros((len(RHO), len(LMBD)))\n",
    "V = np.zeros((len(RHO), len(LMBD)))\n",
    "I = np.zeros((len(RHO), len(LMBD)))\n",
    "theta = 0.\n",
    "print('Computing policies for different values of rho/lambda')\n",
    "P0, P1 = build_system(theta)\n",
    "\n",
    "for i in tqdm(range(len(RHO))):\n",
    "    for j in tqdm(range(len(LMBD)), leave=False):\n",
    "        rho = RHO[i]\n",
    "        lmbd = LMBD[j]\n",
    "        result, xi1, xi0 = full_information_privacy_utility(rho, lmbd, P0, P1, R0, R1, initial_points=1)\n",
    "        print(result)\n",
    "        V0[i,j], V1[i,j], V[i,j] = compute_values(rho, xi0, xi1, R0, R1)\n",
    "        I[i,j] = full_information_privacy(P0, P1, xi0, xi1)\n"
   ]
  },
  {
   "cell_type": "code",
   "execution_count": 46,
   "metadata": {},
   "outputs": [
    {
     "data": {
      "image/png": "[encoded data removed]",
      "text/plain": [
       "<Figure size 432x288 with 3 Axes>"
      ]
     },
     "metadata": {
      "needs_background": "light"
     },
     "output_type": "display_data"
    },
    {
     "data": {
      "text/plain": [
       "array([[0.53169238, 0.38902439, 0.38902439, 0.38902439, 0.38902439],\n",
       "       [0.53162572, 0.38714286, 0.38902439, 0.38902439, 0.38902439],\n",
       "       [0.53102628, 0.38714286, 0.38714286, 0.38902439, 0.38902439]])"
      ]
     },
     "execution_count": 46,
     "metadata": {},
     "output_type": "execute_result"
    }
   ],
   "source": [
    "fig, ax = plt.subplots(1, 3)\n",
    "for i in range(len(RHO)):\n",
    "    ax[2].plot(LMBD, I[i,:], label='rho {}'.format(RHO[i]))\n",
    "    ax[0].plot(LMBD, V0[i,:], label='V0')\n",
    "    ax[1].plot(LMBD, V1[i,:], label='V1')\n",
    "    \n",
    "ax[0].set_title('V0')\n",
    "ax[1].set_title('V1')\n",
    "\n",
    "\n",
    "ax[2].set_title('Privacy')\n",
    "\n",
    "for i in range(3):\n",
    "    ax[i].grid()\n",
    "    ax[i].legend()\n",
    "\n",
    "plt.show()"
   ]
  }
 ],
 "metadata": {
  "kernelspec": {
   "display_name": "Python 3",
   "language": "python",
   "name": "python3"
  },
  "language_info": {
   "codemirror_mode": {
    "name": "ipython",
    "version": 3
   },
   "file_extension": ".py",
   "mimetype": "text/x-python",
   "name": "python",
   "nbconvert_exporter": "python",
   "pygments_lexer": "ipython3",
   "version": "3.7.9"
  }
 },
 "nbformat": 4,
 "nbformat_minor": 4
}
